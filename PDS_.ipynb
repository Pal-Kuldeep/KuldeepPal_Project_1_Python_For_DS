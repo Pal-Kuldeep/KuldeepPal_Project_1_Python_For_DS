{
 "cells": [
  {
   "cell_type": "markdown",
   "id": "e0fb0882-9f3f-4e26-84c7-dc1cdd5e6b4c",
   "metadata": {},
   "source": [
    "## Question No.1"
   ]
  },
  {
   "cell_type": "markdown",
   "id": "272cfac4-c7b4-400c-9ad4-2696e860ca5b",
   "metadata": {},
   "source": [
    "### Import the required libraries and read the dataset. (1 point)"
   ]
  },
  {
   "cell_type": "code",
   "execution_count": null,
   "id": "f844be15-4159-4ccb-a52c-1b9fe783056d",
   "metadata": {},
   "outputs": [],
   "source": [
    "import numpy as np\n",
    "import pandas as pd\n",
    "from matplotlib import pyplot as plt\n",
    "import seaborn as sns\n",
    "%matplotlib inline\n"
   ]
  },
  {
   "cell_type": "code",
   "execution_count": null,
   "id": "4394b30e-36da-4dc6-b2ff-187204595fa6",
   "metadata": {},
   "outputs": [],
   "source": [
    "#Loading the Dataset\n",
    "df = pd.read_csv('fifa.csv')\n",
    "pd.options.display.max_columns = None\n",
    "df.head(5)"
   ]
  },
  {
   "cell_type": "code",
   "execution_count": null,
   "id": "94d8a154-dcfb-4841-928d-63697a104862",
   "metadata": {},
   "outputs": [],
   "source": [
    "#copying the dataframe into new dataframe\n",
    "df1 = df.copy()"
   ]
  },
  {
   "cell_type": "markdown",
   "id": "1ad3308d-f37f-4e28-a59a-c7c2bf7b1485",
   "metadata": {},
   "source": [
    "## Question No. 2"
   ]
  },
  {
   "cell_type": "markdown",
   "id": "e692acd9-1ac7-4614-9748-a8ea911f62f6",
   "metadata": {},
   "source": [
    "### Check the first few samples, shape, info of the data and try to familiarize yourself with different features. (2 points)"
   ]
  },
  {
   "cell_type": "code",
   "execution_count": null,
   "id": "998103de-db30-481b-93ec-74ffba12896f",
   "metadata": {},
   "outputs": [],
   "source": [
    "pd.get_dummies(df1)\n",
    "df1.sample(5)"
   ]
  },
  {
   "cell_type": "code",
   "execution_count": null,
   "id": "4f0ead95-7dc5-4ad4-ad81-23090a9805c5",
   "metadata": {},
   "outputs": [],
   "source": [
    "df1.info()"
   ]
  },
  {
   "cell_type": "code",
   "execution_count": null,
   "id": "dc58d70b-03d6-4121-ba98-3fc4d79cfe2e",
   "metadata": {},
   "outputs": [],
   "source": [
    "#This will tell how many rows and columns in the dataframe\n",
    "df1.shape"
   ]
  },
  {
   "cell_type": "markdown",
   "id": "cfe50f10-dab9-43c9-9257-022e6c3c81e9",
   "metadata": {},
   "source": [
    "## Question No. 3"
   ]
  },
  {
   "cell_type": "markdown",
   "id": "0147251f-6f63-4718-bee2-f52e668d774d",
   "metadata": {},
   "source": [
    "### Drop the columns which you think redundant for the analysis. (1 point) [Hint: columns like 'Photo','Flag','Club Logo']"
   ]
  },
  {
   "cell_type": "code",
   "execution_count": null,
   "id": "70e9e7b7-1653-452b-9fec-93abd403385e",
   "metadata": {},
   "outputs": [],
   "source": [
    "#Dropping the non-required columns from the dataframe\n",
    "df1 = df1.drop(columns = ['Photo','Flag','Club Logo'])\n",
    "df1.head(5)\n"
   ]
  },
  {
   "cell_type": "markdown",
   "id": "2db456e4-12f4-4283-8882-70948690f730",
   "metadata": {},
   "source": [
    "### Question No. 4"
   ]
  },
  {
   "cell_type": "markdown",
   "id": "3be4c704-960a-4c90-a710-e68a24810e78",
   "metadata": {},
   "source": [
    "### Convert the columns \"Value\", \"Wage\", \"Release Clause\" to float datatype after getting rid of currency symbol and suffix. (6 points)\n",
    "### - Note: When the record/entry has \"M\"(indicates millions) as suffix you need to multiply that value with 1000000\n",
    "### - When the record/entry has \"K\"(indicates thousands) as suffix you need to multiply that value with 1000"
   ]
  },
  {
   "cell_type": "code",
   "execution_count": null,
   "id": "1c01fbcc-ce51-4e99-b9c0-52bf8efed411",
   "metadata": {},
   "outputs": [],
   "source": [
    "#Showing the columns for the operations of removing prefix and suffix\n",
    "df1.loc[:,['Value','Wage','Release Clause']].head(5)"
   ]
  },
  {
   "cell_type": "code",
   "execution_count": null,
   "id": "93cc9845-3900-4c26-bac5-bc8c4ec7a4f6",
   "metadata": {},
   "outputs": [],
   "source": [
    "##Removing the prefix from the columns\n",
    "df1['Value'] = df1['Value'].str.removeprefix('€')\n",
    "df1['Value']"
   ]
  },
  {
   "cell_type": "code",
   "execution_count": null,
   "id": "60ce196c-5707-4485-9828-eb4ec25ef12d",
   "metadata": {},
   "outputs": [],
   "source": [
    "#Here replacing the suffix from the required value\n",
    "df1['Value'] = df1['Value'].str.replace(\"M\",'*1000000')\n",
    "df1['Value'] = df1['Value'].str.replace(\"K\",'*1000')\n",
    "df1['Value']"
   ]
  },
  {
   "cell_type": "code",
   "execution_count": null,
   "id": "ec8c0d9b-5a32-4f78-b306-9b2f1c2cebd2",
   "metadata": {},
   "outputs": [],
   "source": [
    "#Splitting the columns values and divide into two columns.\n",
    "df1[['Value','ToMultiplied']] = df1['Value'].str.split('*', expand = True)\n"
   ]
  },
  {
   "cell_type": "code",
   "execution_count": null,
   "id": "23030369-7c77-4709-8f89-720d231970dd",
   "metadata": {},
   "outputs": [],
   "source": [
    "#Converting both Columns to Numeric\n",
    "df1['Value'] = pd.to_numeric(df1['Value'], errors = 'coerce')\n",
    "print('Value Column Datatype:',df1['Value'].dtype)\n",
    "\n",
    "\n",
    "df1['ToMultiplied'] = pd.to_numeric(df1['ToMultiplied'], errors = 'coerce')\n",
    "print(df1['ToMultiplied'])\n",
    "\n",
    "print('\\nToMultiplied Column Datatype:',df1['ToMultiplied'].dtype)\n",
    "\n"
   ]
  },
  {
   "cell_type": "code",
   "execution_count": null,
   "id": "84171538-dab6-406c-9e23-b75dee453fc4",
   "metadata": {},
   "outputs": [],
   "source": [
    "#Here multiplying the value column with the corresponding value of those Millions & K(Thousands) with 10000000 and 1000 respectively.\n",
    "df1['Value'] =df1['Value'] * df1['ToMultiplied']\n",
    "df1['Value']"
   ]
  },
  {
   "cell_type": "code",
   "execution_count": null,
   "id": "288e1332-c85a-439e-9c27-b229ee3141c9",
   "metadata": {},
   "outputs": [],
   "source": [
    "#here we can see the values has been changed in millions and thousands for column value.\n",
    "df1.head()"
   ]
  },
  {
   "cell_type": "markdown",
   "id": "de01a197-5248-47c0-aae1-e34ba3a8a2a0",
   "metadata": {},
   "source": [
    "#Operation on Wage Column"
   ]
  },
  {
   "cell_type": "code",
   "execution_count": null,
   "id": "08e556e7-e053-4e64-b6a3-e79c7bc59487",
   "metadata": {},
   "outputs": [],
   "source": [
    "df1['Wage'] = df1['Wage'].str.removeprefix('€')\n",
    "\n",
    "#Replacing the suffix with corresponding values\n",
    "df1['Wage'] = df1['Wage'].str.replace('K','*1000')\n",
    "df1[['Wage','WageMultiplicationColumn']] = df1['Wage'].str.split('*',expand = True)\n",
    "df1['Wage'] = pd.to_numeric(df1['Wage'], errors = 'coerce')\n",
    "df1['WageMultiplicationColumn'] = pd.to_numeric(df1['WageMultiplicationColumn'], errors = 'coerce')\n",
    "df1['Wage'] = df1['Wage'] * df1['WageMultiplicationColumn']\n",
    "df1['Wage']"
   ]
  },
  {
   "cell_type": "code",
   "execution_count": null,
   "id": "48818822-3963-48bb-ae02-23cdb18b5ea5",
   "metadata": {},
   "outputs": [],
   "source": [
    "df1.head()"
   ]
  },
  {
   "cell_type": "code",
   "execution_count": null,
   "id": "81241082-d69e-4fb4-b01f-722949a76bd7",
   "metadata": {},
   "outputs": [],
   "source": [
    "#Operation on Release Clause column\n",
    "df1['Release Clause'] = df1['Release Clause'].str.removeprefix('€')\n",
    "\n",
    "#Replacing the suffix with corresponding values\n",
    "df1['Release Clause'] = df1['Release Clause'].str.replace('M','*1000000')\n",
    "df1['Release Clause'] = df1['Release Clause'].str.replace('K','*1000')\n",
    "df1[['Release Clause','ReleaseClauseMultiplicationColumn']] = df1['Release Clause'].str.split('*',expand = True)\n",
    "df1['Release Clause'] = pd.to_numeric(df1['Release Clause'], errors = 'coerce')\n",
    "df1['ReleaseClauseMultiplicationColumn'] = pd.to_numeric(df1['ReleaseClauseMultiplicationColumn'], errors = 'coerce')\n",
    "df1['Release Clause'] = df1['Release Clause'] * df1['ReleaseClauseMultiplicationColumn']\n",
    "df1['Release Clause']"
   ]
  },
  {
   "cell_type": "code",
   "execution_count": null,
   "id": "097a7347-2a3a-4e02-a918-f1fedcca46fa",
   "metadata": {},
   "outputs": [],
   "source": [
    "df1.head()"
   ]
  },
  {
   "cell_type": "markdown",
   "id": "7d530c88-217e-4c16-9977-d89479995736",
   "metadata": {},
   "source": [
    "### Question No. 5"
   ]
  },
  {
   "cell_type": "markdown",
   "id": "aa65b090-8d78-4b53-8d8b-6e7ca8098c39",
   "metadata": {},
   "source": [
    "### Convert the column \"Joined\" into integer data type with keeping only the year. (2 points)"
   ]
  },
  {
   "cell_type": "code",
   "execution_count": null,
   "id": "7776b089-cd7c-4817-b6ef-a8fc528344fe",
   "metadata": {},
   "outputs": [],
   "source": [
    "print(df1['Joined'].head())\n",
    "#Converting Joined Column to DateTime String format\n",
    "df1['Joined'] = pd.to_datetime(df1['Joined'])\n",
    "df1.dtypes.head(18)"
   ]
  },
  {
   "cell_type": "code",
   "execution_count": null,
   "id": "3652f154-6d8b-47d8-b6e1-0b746328d5b6",
   "metadata": {},
   "outputs": [],
   "source": [
    "#Extracting only the year from the String Date and it will return dtype as object\n",
    "x = df1['Joined']\n",
    "df1['Joined'] = x.dt.strftime('%Y')"
   ]
  },
  {
   "cell_type": "code",
   "execution_count": null,
   "id": "05a2ec0f-9dd3-4bb6-b456-abf276469020",
   "metadata": {},
   "outputs": [],
   "source": [
    "df1['Joined'].head(30)"
   ]
  },
  {
   "cell_type": "code",
   "execution_count": null,
   "id": "8d337dfc-eef9-412c-b981-43d0cd196fd5",
   "metadata": {},
   "outputs": [],
   "source": [
    "df1['Joined'] = df1['Joined'].fillna(0)"
   ]
  },
  {
   "cell_type": "code",
   "execution_count": null,
   "id": "1b86e205-5924-4dcb-ae8e-0bc39a6d7f70",
   "metadata": {},
   "outputs": [],
   "source": [
    "df1['Joined'] = df1['Joined'].astype('int')\n",
    "df1.dtypes.head(18)"
   ]
  },
  {
   "cell_type": "markdown",
   "id": "81a013ae-8f5e-47c6-8733-f07be0a7dcaf",
   "metadata": {},
   "source": [
    "## Question No. 6"
   ]
  },
  {
   "cell_type": "markdown",
   "id": "099e3a37-885f-45fd-b2d1-f225a4c54cb5",
   "metadata": {},
   "source": [
    "### Convert the column \"Contract Valid Until\" to pandas datetime type. (2 points)"
   ]
  },
  {
   "cell_type": "code",
   "execution_count": null,
   "id": "8b1dda53-989c-4234-a9b8-4177a5565c42",
   "metadata": {},
   "outputs": [],
   "source": [
    "#Converting the column ('Contract Valid Until') to pandas datetime format"
   ]
  },
  {
   "cell_type": "code",
   "execution_count": null,
   "id": "935976ca-de3a-4874-b38b-222694503890",
   "metadata": {},
   "outputs": [],
   "source": [
    "df1['Contract Valid Until'].head(30)"
   ]
  },
  {
   "cell_type": "code",
   "execution_count": null,
   "id": "eeebb114-f4f5-457d-a5cd-9f02b5d0a86c",
   "metadata": {},
   "outputs": [],
   "source": [
    "df1['Contract Valid Until'] =  pd.to_datetime(df1['Contract Valid Until'], format = 'mixed')\n",
    "df1['Contract Valid Until'].head(35)"
   ]
  },
  {
   "cell_type": "markdown",
   "id": "fb9ce9c2-338d-4e5a-9321-7cbd4ebe4f18",
   "metadata": {},
   "source": [
    "### Question No. 7"
   ]
  },
  {
   "cell_type": "markdown",
   "id": "fbeaf020-5ee3-4ea4-a6dc-e66a7715d816",
   "metadata": {},
   "source": [
    "### The column 'Height' is in inches with a quotation mark, Convert to float with decimal points. (2 points)"
   ]
  },
  {
   "cell_type": "code",
   "execution_count": null,
   "id": "26fe9f4a-b3be-4efa-8742-8191693f8273",
   "metadata": {},
   "outputs": [],
   "source": [
    "#Seeing the column before the operation\n",
    "df1['Height'].head()"
   ]
  },
  {
   "cell_type": "code",
   "execution_count": null,
   "id": "7f295f15-18e6-49e2-8d34-208e6ae7c9d8",
   "metadata": {},
   "outputs": [],
   "source": [
    "#Replacing the height's ' with .\n",
    "df1['Height'] = df1['Height'].str.replace('\\'','.')\n",
    "df1['Height'].head(10)"
   ]
  },
  {
   "cell_type": "code",
   "execution_count": null,
   "id": "36b81b68-034d-4b45-ad95-a888332d3731",
   "metadata": {},
   "outputs": [],
   "source": [
    "#Converting the data from object to float\n",
    "df1['Height'] = df1['Height'].astype('float')\n",
    "df1['Height'].head(15)"
   ]
  },
  {
   "cell_type": "markdown",
   "id": "4dc55e9e-5742-47cd-b8bb-dd579993658c",
   "metadata": {},
   "source": [
    "## Question No. 8"
   ]
  },
  {
   "cell_type": "markdown",
   "id": "40aa714f-49ba-4bef-a8d8-3043b5e49eac",
   "metadata": {},
   "source": [
    "### The column \"Weight\" has the suffix as lbs, remove the suffix and convert to float. (2 points)"
   ]
  },
  {
   "cell_type": "code",
   "execution_count": null,
   "id": "eb9eef7d-89da-451c-8e24-482934211365",
   "metadata": {},
   "outputs": [],
   "source": [
    "##Viewing the column before the operation like what to change etc.\n",
    "df1['Weight'].head(10)"
   ]
  },
  {
   "cell_type": "code",
   "execution_count": null,
   "id": "cf9e22d2-f9b8-4cf4-9252-5b7a99d46014",
   "metadata": {},
   "outputs": [],
   "source": [
    "#Removing the suffix 'lbs'\n",
    "df1['Weight'] = df1['Weight'].str.removesuffix('lbs')\n",
    "df1['Weight'].head(15)"
   ]
  },
  {
   "cell_type": "code",
   "execution_count": null,
   "id": "7b07ff9d-e4fc-49eb-90df-7e4636971741",
   "metadata": {},
   "outputs": [],
   "source": [
    "#Converting the data as float\n",
    "df1[['Weight','Height']] = df1[['Weight','Height']].astype('float')\n",
    "df1[['Weight','Height']].head(15)"
   ]
  },
  {
   "cell_type": "code",
   "execution_count": null,
   "id": "71278c25-9ca1-4f26-87b6-a886c3a798dd",
   "metadata": {},
   "outputs": [],
   "source": [
    "avgHei = df1['Height'].mean()\n",
    "avgWei = df1['Weight'].mean()\n",
    "print(f'Avg Height : {avgHei}')\n",
    "print(f'Avg Weight: {avgWei}')\n",
    " "
   ]
  },
  {
   "cell_type": "code",
   "execution_count": null,
   "id": "3eb529b2-a0ab-4111-853d-1d14110dffb6",
   "metadata": {},
   "outputs": [],
   "source": [
    "df1['Height'] = df1['Height'].fillna(avgHei)\n",
    "df1['Weight'] = df1['Weight'].fillna(avgWei)"
   ]
  },
  {
   "cell_type": "code",
   "execution_count": null,
   "id": "4454c8be-28b5-4272-b454-d73925ffd65c",
   "metadata": {},
   "outputs": [],
   "source": [
    "df1[['Weight','Height']].isnull().sum()"
   ]
  },
  {
   "cell_type": "code",
   "execution_count": null,
   "id": "480aad39-6545-44ad-ba8b-8c40671d4e15",
   "metadata": {},
   "outputs": [],
   "source": []
  },
  {
   "cell_type": "markdown",
   "id": "f4304c01-b95c-4fb2-aecb-0a4654c71cd8",
   "metadata": {},
   "source": [
    "## Question No. 9"
   ]
  },
  {
   "cell_type": "markdown",
   "id": "64917a37-1da9-47c7-b785-a2e738a38dff",
   "metadata": {},
   "source": [
    "### Check for the percentage of missing values and impute them with appropriate imputation techniques. (4 points)"
   ]
  },
  {
   "cell_type": "code",
   "execution_count": null,
   "id": "1a7b4aa8-135f-49ed-8e57-13a9336cf2fc",
   "metadata": {},
   "outputs": [],
   "source": [
    "(df1.isnull().sum()) / len(df1) * 100\n"
   ]
  },
  {
   "cell_type": "code",
   "execution_count": null,
   "id": "d1568f42-2677-4b74-bdcc-b4e05d5fee59",
   "metadata": {},
   "outputs": [],
   "source": [
    "df1.isnull().sum()"
   ]
  },
  {
   "cell_type": "code",
   "execution_count": null,
   "id": "3bd5deb5-fc1f-4238-92b5-7edabcb87a21",
   "metadata": {},
   "outputs": [],
   "source": [
    "#Imputing the Columns\n",
    "df1[['Club','Body Type','Position',\n",
    "     'Jersey Number','Loaned From', \n",
    "     'Contract Valid Until','Joined']] = df1[['Club','Body Type','Position','Jersey Number',\n",
    "                                     'Loaned From', 'Contract Valid Until','Joined']].fillna('Not Provided')\n",
    "\n",
    "df1[['Club','Body Type','Position','Jersey Number','Joined','Loaned From', 'Contract Valid Until']].head()"
   ]
  },
  {
   "cell_type": "code",
   "execution_count": null,
   "id": "a67eb489-b1ea-45cf-871b-a1fa7c238ad1",
   "metadata": {},
   "outputs": [],
   "source": [
    "df1.isnull().sum()"
   ]
  },
  {
   "cell_type": "code",
   "execution_count": null,
   "id": "84200025-08e4-4cd1-8cd4-45d92bea8cfa",
   "metadata": {},
   "outputs": [],
   "source": [
    "#Checking the percentage of Right and Left Percentage\n",
    "(df1['Preferred Foot'].value_counts(normalize = True)) #/ len(df1['Preferred Foot'])"
   ]
  },
  {
   "cell_type": "code",
   "execution_count": null,
   "id": "e2d685e6-6da3-48e5-8e7f-a48980f0609b",
   "metadata": {},
   "outputs": [],
   "source": [
    "#filling na with 75% with Right\n",
    "df1['Preferred Foot'] = df1['Preferred Foot'].fillna('Right', limit = 36)"
   ]
  },
  {
   "cell_type": "code",
   "execution_count": null,
   "id": "9d74b610-0323-457d-8b96-623bcb00fa56",
   "metadata": {},
   "outputs": [],
   "source": [
    "#filling na with 25% with Left\n",
    "df1['Preferred Foot'] = df1['Preferred Foot'].fillna('Left')"
   ]
  },
  {
   "cell_type": "code",
   "execution_count": null,
   "id": "cc7a2ade-e5b4-40e3-9d81-8186646d7d43",
   "metadata": {},
   "outputs": [],
   "source": [
    "df1['Preferred Foot'].isnull().sum()"
   ]
  },
  {
   "cell_type": "code",
   "execution_count": null,
   "id": "1029a394-ada8-40bd-8e50-2573baa8e6c5",
   "metadata": {},
   "outputs": [],
   "source": [
    "df1.isnull().sum()"
   ]
  },
  {
   "cell_type": "code",
   "execution_count": null,
   "id": "52bd068b-0fcc-4644-9dd8-d34c24874f67",
   "metadata": {},
   "outputs": [],
   "source": [
    "averageReputation = df1['International Reputation'].mean()\n",
    "df1['International Reputation'] = df1['International Reputation'].fillna(averageReputation)\n",
    "df1['International Reputation'].isnull().sum()"
   ]
  },
  {
   "cell_type": "code",
   "execution_count": null,
   "id": "74c80a63-5bfd-4d4b-abc0-97ee7515df35",
   "metadata": {},
   "outputs": [],
   "source": [
    "df1.isnull().sum()"
   ]
  },
  {
   "cell_type": "code",
   "execution_count": null,
   "id": "2d3404ac-a504-452d-9a8f-09b5ca3e5ec1",
   "metadata": {},
   "outputs": [],
   "source": [
    "releaseClauseMean = df1['Release Clause'].mean()\n",
    "releaseClauseMean"
   ]
  },
  {
   "cell_type": "code",
   "execution_count": null,
   "id": "fc7aea4f-31d0-4b1b-ba08-c504dd8a1fb4",
   "metadata": {},
   "outputs": [],
   "source": [
    "df1['Release Clause'] = df1['Release Clause'].fillna(releaseClauseMean)\n",
    "df1['Release Clause'].isnull().sum()"
   ]
  },
  {
   "cell_type": "code",
   "execution_count": null,
   "id": "095cd31f-e34d-487d-983f-72d5274e6bad",
   "metadata": {},
   "outputs": [],
   "source": [
    "df1.columns"
   ]
  },
  {
   "cell_type": "code",
   "execution_count": null,
   "id": "0bc18736-3fa7-4d6c-8292-1b90e370ca21",
   "metadata": {},
   "outputs": [],
   "source": [
    "avgValue = df1[['Crossing', 'Finishing', 'HeadingAccuracy',\n",
    "       'ShortPassing', 'Volleys', 'Dribbling', 'Curve', 'FKAccuracy',\n",
    "       'LongPassing', 'BallControl', 'Acceleration', 'SprintSpeed', 'Agility',\n",
    "       'Reactions', 'Balance', 'ShotPower', 'Jumping', 'Stamina', 'Strength',\n",
    "       'LongShots', 'Aggression', 'Interceptions', 'Positioning', 'Vision',\n",
    "       'Penalties', 'Composure', 'Marking', 'StandingTackle', 'SlidingTackle',\n",
    "       'GKDiving', 'GKHandling', 'GKKicking', 'GKPositioning', 'GKReflexes'\n",
    "               ]].mean()\n",
    "\n",
    "df1[['Crossing', 'Finishing', 'HeadingAccuracy',\n",
    "       'ShortPassing', 'Volleys', 'Dribbling', 'Curve', 'FKAccuracy',\n",
    "       'LongPassing', 'BallControl', 'Acceleration', 'SprintSpeed', 'Agility',\n",
    "       'Reactions', 'Balance', 'ShotPower', 'Jumping', 'Stamina', 'Strength',\n",
    "       'LongShots', 'Aggression', 'Interceptions', 'Positioning', 'Vision',\n",
    "       'Penalties', 'Composure', 'Marking', 'StandingTackle', 'SlidingTackle',\n",
    "       'GKDiving', 'GKHandling', 'GKKicking', 'GKPositioning', 'GKReflexes'\n",
    "    ]]  =        df1[[\n",
    "                    'Crossing', 'Finishing', 'HeadingAccuracy',\n",
    "    'ShortPassing', 'Volleys', 'Dribbling', 'Curve', 'FKAccuracy',\n",
    "       'LongPassing', 'BallControl', 'Acceleration', 'SprintSpeed', 'Agility',\n",
    "       'Reactions', 'Balance', 'ShotPower', 'Jumping', 'Stamina', 'Strength',\n",
    "       'LongShots', 'Aggression', 'Interceptions', 'Positioning', 'Vision',\n",
    "       'Penalties', 'Composure', 'Marking', 'StandingTackle', 'SlidingTackle',\n",
    "       'GKDiving', 'GKHandling', 'GKKicking', 'GKPositioning', 'GKReflexes'\n",
    "       ]].fillna(avgValue)\n",
    "\n",
    "df1[['Crossing', 'Finishing', 'HeadingAccuracy',\n",
    "       'ShortPassing', 'Volleys', 'Dribbling', 'Curve', 'FKAccuracy',\n",
    "       'LongPassing', 'BallControl', 'Acceleration', 'SprintSpeed', 'Agility',\n",
    "       'Reactions', 'Balance', 'ShotPower', 'Jumping', 'Stamina', 'Strength',\n",
    "       'LongShots', 'Aggression', 'Interceptions', 'Positioning', 'Vision',\n",
    "       'Penalties', 'Composure', 'Marking', 'StandingTackle', 'SlidingTackle',\n",
    "       'GKDiving', 'GKHandling', 'GKKicking', 'GKPositioning', 'GKReflexes'\n",
    "       ]].isnull().sum()"
   ]
  },
  {
   "cell_type": "code",
   "execution_count": null,
   "id": "ab6b5a29-65c3-478f-b64b-aa6070f8b898",
   "metadata": {},
   "outputs": [],
   "source": [
    "df1.isnull().sum()"
   ]
  },
  {
   "cell_type": "code",
   "execution_count": null,
   "id": "b407c390-f2cc-449f-b985-1fbaf768c099",
   "metadata": {},
   "outputs": [],
   "source": [
    "#dropping nonrequired columns\n",
    "df1.drop(columns = ['ToMultiplied','WageMultiplicationColumn','ReleaseClauseMultiplicationColumn'], inplace = True)\n"
   ]
  },
  {
   "cell_type": "code",
   "execution_count": null,
   "id": "1c9842e2-1d9b-48bb-b367-5e1854ab2962",
   "metadata": {},
   "outputs": [],
   "source": [
    "df1.isnull().sum()"
   ]
  },
  {
   "cell_type": "code",
   "execution_count": null,
   "id": "f07dfd6f-da9d-4b12-9aa9-46786ea07390",
   "metadata": {},
   "outputs": [],
   "source": [
    "df1[['Value','Wage']].isnull().sum()"
   ]
  },
  {
   "cell_type": "code",
   "execution_count": null,
   "id": "fc085919-a626-40ef-b0e6-8f7db70cedc6",
   "metadata": {},
   "outputs": [],
   "source": [
    "avgValue = df1['Value'].mean()\n",
    "avgWage = df1['Wage'].mean()\n",
    "\n",
    "df1['Value'] = df1['Value'].fillna(avgValue)\n",
    "df1['Wage'] = df1['Wage'].fillna(avgWage)\n",
    "\n",
    "df1[['Value','Wage']].head(5)"
   ]
  },
  {
   "cell_type": "code",
   "execution_count": null,
   "id": "b1b2f25c-b71f-463b-a7ee-af89e796ab86",
   "metadata": {},
   "outputs": [],
   "source": [
    "df1[['Value','Wage']].isnull().sum()"
   ]
  },
  {
   "cell_type": "code",
   "execution_count": null,
   "id": "73632a03-f58e-4d10-af68-582efaf5cdce",
   "metadata": {},
   "outputs": [],
   "source": [
    "df1.isnull().sum()"
   ]
  },
  {
   "cell_type": "markdown",
   "id": "2fec7149-e89a-46d6-8d72-65310c2e94bb",
   "metadata": {},
   "source": [
    "### Question No. 10         "
   ]
  },
  {
   "cell_type": "markdown",
   "id": "6e6c9502-fc40-4fa1-a3e8-6f7dd0319167",
   "metadata": {},
   "source": [
    "### Plot the distribution of Overall rating for all the players and write your findings. (2 points)"
   ]
  },
  {
   "cell_type": "code",
   "execution_count": null,
   "id": "72d54752-795d-4378-966b-b36f0d7a21dc",
   "metadata": {},
   "outputs": [],
   "source": [
    "df1['Overall'].plot(kind='hist')\n",
    "plt.xlabel('Number of Ratings')\n",
    "plt.show()"
   ]
  },
  {
   "cell_type": "markdown",
   "id": "754755b0-f84a-465f-9bcc-6348466a1ada",
   "metadata": {},
   "source": [
    "# Question No. 11"
   ]
  },
  {
   "cell_type": "markdown",
   "id": "57886f1d-137b-40a4-84e3-fd15299593d1",
   "metadata": {},
   "source": [
    "## Retrieve the names of top20 players based on the Overall rating."
   ]
  },
  {
   "cell_type": "code",
   "execution_count": null,
   "id": "cbbaa662-056f-4cd8-93be-8dd02c95a001",
   "metadata": {},
   "outputs": [],
   "source": [
    "top20Players = df1.nlargest(20, ['Overall']) \n",
    "top20Players['Name']"
   ]
  },
  {
   "cell_type": "markdown",
   "id": "7ef0a0ea-5610-4e2a-b9fb-01bcd181a6d1",
   "metadata": {},
   "source": [
    "## Question No. 12"
   ]
  },
  {
   "cell_type": "markdown",
   "id": "65607143-3129-464c-806d-7eec8db5353c",
   "metadata": {},
   "source": [
    "### Generate a dataframe which should include all the information of the Top 20 players based on the Overall rating. (4 points)"
   ]
  },
  {
   "cell_type": "code",
   "execution_count": null,
   "id": "40217ccd-a4e6-4496-b9f4-0c729940b7b3",
   "metadata": {},
   "outputs": [],
   "source": [
    "df1.nlargest(20, ['Overall']) "
   ]
  },
  {
   "cell_type": "markdown",
   "id": "12cf2ad1-cf23-43b9-ab31-f36828185662",
   "metadata": {},
   "source": [
    "## Question No. 13"
   ]
  },
  {
   "cell_type": "markdown",
   "id": "770e3873-9b06-4e82-b690-d14663b0df9b",
   "metadata": {},
   "source": [
    "### What is the average \"Age\" and \"Wage\" of these top 20 players? (use the data frame created in the question 11) (2 points)"
   ]
  },
  {
   "cell_type": "code",
   "execution_count": null,
   "id": "51c0a23a-3726-4d44-91ba-224e7c7f2be8",
   "metadata": {},
   "outputs": [],
   "source": [
    "avgTop20 = df1.nlargest(20, ['Overall']) "
   ]
  },
  {
   "cell_type": "code",
   "execution_count": null,
   "id": "42fc7aa9-3966-406f-9fa1-935e8ab0c1be",
   "metadata": {},
   "outputs": [],
   "source": [
    "avgTop20[['Age','Wage']].mean()"
   ]
  },
  {
   "cell_type": "markdown",
   "id": "ed2e32ac-ef54-4f6e-8192-70e7ad4ecb27",
   "metadata": {},
   "source": [
    "## Question No. 14"
   ]
  },
  {
   "cell_type": "markdown",
   "id": "607cc973-7569-4e07-a2ee-3824ae5df794",
   "metadata": {},
   "source": [
    "### Among the top 20 players based on the Overall rating, which player has the highest wage? Display the name of the player with his wage. (2 points)"
   ]
  },
  {
   "cell_type": "code",
   "execution_count": null,
   "id": "9b7db37f-b654-46b6-b84c-5731e0eea981",
   "metadata": {},
   "outputs": [],
   "source": [
    "#First Way to do this Question"
   ]
  },
  {
   "cell_type": "code",
   "execution_count": null,
   "id": "5660b253-dc6e-4dfb-9ac7-7747f51fdd54",
   "metadata": {},
   "outputs": [],
   "source": [
    "highestWagePlayer = df1.nlargest(1, ['Overall'])"
   ]
  },
  {
   "cell_type": "code",
   "execution_count": null,
   "id": "9ef59655-520a-4cda-98b5-3346210deb66",
   "metadata": {},
   "outputs": [],
   "source": [
    "highestWagePlayer[['Name','Wage']]"
   ]
  },
  {
   "cell_type": "code",
   "execution_count": null,
   "id": "23c2514a-78c6-4c57-bb29-611431bcbe24",
   "metadata": {},
   "outputs": [],
   "source": [
    "#Another Way to do this Question"
   ]
  },
  {
   "cell_type": "code",
   "execution_count": null,
   "id": "8f892226-1e80-46eb-b46a-719937f4ea20",
   "metadata": {},
   "outputs": [],
   "source": [
    "maxWagePlayer = highestWagePlayer[['Name','Wage']]"
   ]
  },
  {
   "cell_type": "code",
   "execution_count": null,
   "id": "82ee0d10-e574-4eff-ac69-ec33762dc620",
   "metadata": {},
   "outputs": [],
   "source": [
    "maxWage = maxWagePlayer['Wage'].max()"
   ]
  },
  {
   "cell_type": "code",
   "execution_count": null,
   "id": "f897e1e7-83ae-4ce5-aa6e-6d3b5823a76c",
   "metadata": {},
   "outputs": [],
   "source": [
    "maxWagePlayer.loc[maxWagePlayer['Wage'] == maxWage]"
   ]
  },
  {
   "cell_type": "markdown",
   "id": "07c7ed4a-e6e5-4fcc-9a37-845a9ef020c4",
   "metadata": {},
   "source": [
    "## Question No. 15"
   ]
  },
  {
   "cell_type": "markdown",
   "id": "c1052832-ec98-44d9-a8d4-0029a8aba683",
   "metadata": {},
   "source": [
    "### Generate a dataframe which should include the \"Player name\", \"Club Name\", \"Wage\", and 'Overall rating'. (4 Points)\n",
    "### - i) find the average Overall rating for each club.\n",
    "### - ii) Display the average overall rating of Top10 Clubs using a plot"
   ]
  },
  {
   "cell_type": "code",
   "execution_count": null,
   "id": "c07f9bc0-fc23-4132-8476-fef37bc6acb2",
   "metadata": {},
   "outputs": [],
   "source": [
    "df1[['Name','Club','Wage','Overall']].head()"
   ]
  },
  {
   "cell_type": "code",
   "execution_count": null,
   "id": "ce739c00-22b9-4df4-8a57-90e9f4bb7768",
   "metadata": {},
   "outputs": [],
   "source": [
    "#i)--\n",
    "df1.groupby(['Name','Club'])['Overall'].mean()\n"
   ]
  },
  {
   "cell_type": "code",
   "execution_count": null,
   "id": "bae16699-15cf-4a24-93f1-64c656f0d9f2",
   "metadata": {},
   "outputs": [],
   "source": [
    "#ii)--\n",
    "color = ['r','g','b','k','cyan','magenta','purple','violet','pink','m']\n",
    "avgOverallplottop10 = df1.groupby('Club')['Overall'].mean()\n",
    "avgOverallplottop10.nlargest(10).plot(kind='bar',color=color)\n",
    "plt.ylabel('Ratings From 0 to 100')\n",
    "plt.xticks(rotation=80)\n",
    "plt.title(\"Showing Average of Top 10 Club's Average\")\n",
    "plt.show()"
   ]
  },
  {
   "cell_type": "markdown",
   "id": "8cd79cfe-53cc-463b-952f-60b5e8857667",
   "metadata": {},
   "source": [
    "## Question No. 16"
   ]
  },
  {
   "cell_type": "markdown",
   "id": "489b03f8-a292-45f0-a6ec-97e52e053aa6",
   "metadata": {},
   "source": [
    "## What is the relationship between age and individual potential of the player? Visualize the relationship with appropriate plot and Comment on the same. (2 points)"
   ]
  },
  {
   "cell_type": "code",
   "execution_count": null,
   "id": "71aaae52-e9b9-41e5-8e6d-399232c41fdf",
   "metadata": {},
   "outputs": [],
   "source": [
    "plt.scatter(df1['Age'],df1['Potential'])\n",
    "plt.title(\"Showing Relationship between Age and Potential\")\n",
    "plt.xlabel('Age')\n",
    "plt.ylabel('Potential')\n",
    "plt.show()"
   ]
  },
  {
   "cell_type": "markdown",
   "id": "32a5473d-42f8-4064-b1d1-5ab447831b93",
   "metadata": {},
   "source": [
    "## Question No. 17"
   ]
  },
  {
   "cell_type": "markdown",
   "id": "14a711b1-4a99-458d-b9d8-09a185ad2972",
   "metadata": {},
   "source": [
    "### Which features directly contribute to the wages of the players? Support your answer with a plot and a metric. (2 points) (hint: use potential, Overall, value, international reputation, and Release Clause)"
   ]
  },
  {
   "cell_type": "code",
   "execution_count": null,
   "id": "69e15a51-7940-4a40-9587-8c0fc4b14466",
   "metadata": {},
   "outputs": [],
   "source": [
    "sns.heatmap(df1[['Potential','Overall','Value','International Reputation','Release Clause']], annot= True)\n",
    "plt.show()"
   ]
  },
  {
   "cell_type": "markdown",
   "id": "b4087ceb-1751-4e6d-9acb-32a277ba1e8e",
   "metadata": {},
   "source": [
    "## Question No. 18"
   ]
  },
  {
   "cell_type": "markdown",
   "id": "f1ac1ca8-9ffa-4361-b33d-66ac18cb6d1d",
   "metadata": {},
   "source": [
    "## Find the position in the pitch where the maximum number of players play and the position where the minimum number of players play? Display it using a plot. (2 points)"
   ]
  },
  {
   "cell_type": "code",
   "execution_count": null,
   "id": "cf76293b-e468-493a-88af-bc1c894f9d6b",
   "metadata": {},
   "outputs": [],
   "source": [
    "minmax = df1['Position'].value_counts()\n",
    "print(minmax)\n",
    "\n",
    "minmax.iloc[[0,-1]].plot(kind='bar',color = ['g','b'])\n",
    "#minmax[[0,-1]].plot(kind='bar')\n",
    "plt.title (\"\\nShowing Maximum and Minimum Numbers of Players Playing based on the Body Position\\n\")\n",
    "plt.ylabel('Maximum Number of Players Playing')\n",
    "plt.xlabel ('Body Position of the Players')\n",
    "\n",
    "plt.show()"
   ]
  },
  {
   "cell_type": "markdown",
   "id": "fa84e430-6e5c-4e51-af5b-bd85a4664f2b",
   "metadata": {},
   "source": [
    "## Question No. 19"
   ]
  },
  {
   "cell_type": "markdown",
   "id": "8ccf23f8-77bc-4172-93db-668da1d12e92",
   "metadata": {},
   "source": [
    "### How many players are from the club 'Juventus' and the wage is greater than 200K? Display all the information of such players. (2 points)"
   ]
  },
  {
   "cell_type": "code",
   "execution_count": null,
   "id": "1cd79366-be65-4549-9727-bcc7c5fb1d91",
   "metadata": {},
   "outputs": [],
   "source": [
    "df1.loc[(df1['Club']=='Juventus') & (df1['Wage']>200000)]"
   ]
  },
  {
   "cell_type": "markdown",
   "id": "172e6f85-4b38-4ba4-ad3a-cdb67c24fdac",
   "metadata": {},
   "source": [
    "## Question No. 20"
   ]
  },
  {
   "cell_type": "markdown",
   "id": "52372190-51cd-43ba-9892-e4f96fe32ec0",
   "metadata": {},
   "source": [
    "### Generate a data frame containing top 5 players by Overall rating for each unique position. (2 Points)"
   ]
  },
  {
   "cell_type": "code",
   "execution_count": null,
   "id": "3045776b-5558-4f66-9808-60960496ac34",
   "metadata": {},
   "outputs": [],
   "source": [
    "df1.nlargest(5,['Overall'])"
   ]
  },
  {
   "cell_type": "markdown",
   "id": "50e588cb-6c10-48a5-be5a-7f759888ae43",
   "metadata": {},
   "source": [
    "## Question No.21"
   ]
  },
  {
   "cell_type": "markdown",
   "id": "5b3a77d0-0ddd-4764-be36-cd5e6fcacd7c",
   "metadata": {},
   "source": [
    "### What is the average wage one can expect to pay for the top 5 players in every position? (use the data frame created in Q19) (2 points)"
   ]
  },
  {
   "cell_type": "code",
   "execution_count": null,
   "id": "12543fc2-3270-411d-a1de-73357fe7cb3e",
   "metadata": {},
   "outputs": [],
   "source": [
    "top5Player = df1.nlargest(5,['Wage'])\n",
    "top5Player['Wage'].mean()"
   ]
  }
 ],
 "metadata": {
  "kernelspec": {
   "display_name": "Python 3 (ipykernel)",
   "language": "python",
   "name": "python3"
  },
  "language_info": {
   "codemirror_mode": {
    "name": "ipython",
    "version": 3
   },
   "file_extension": ".py",
   "mimetype": "text/x-python",
   "name": "python",
   "nbconvert_exporter": "python",
   "pygments_lexer": "ipython3",
   "version": "3.12.4"
  }
 },
 "nbformat": 4,
 "nbformat_minor": 5
}
